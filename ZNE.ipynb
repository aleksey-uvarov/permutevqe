{
 "cells": [
  {
   "cell_type": "markdown",
   "id": "ceb45315-128a-4915-a622-9bd73d9fd613",
   "metadata": {},
   "source": [
    "# ZNE protocol for VQE solutions\n",
    "\n",
    "In this notebook we take an already found VQE solution and execute ZNE protocol."
   ]
  },
  {
   "cell_type": "code",
   "execution_count": 1,
   "id": "3ea7721a-43ec-4a26-9be9-2c5853a1364b",
   "metadata": {},
   "outputs": [],
   "source": [
    "from vqe_vs_sum import *\n",
    "from zne import *\n",
    "from qiskit.algorithms.optimizers import L_BFGS_B\n",
    "from enum import Enum, auto\n",
    "from scipy.optimize import minimize\n",
    "from qiskit_aer.backends import QasmSimulator, AerSimulator\n",
    "from qiskit import execute\n",
    "from math import factorial\n",
    "from scipy.stats import linregress\n",
    "from pathlib import Path\n",
    "import time\n",
    "import json\n",
    "from scipy.sparse.linalg import eigsh\n",
    "from qiskit.algorithms import VQE\n",
    "from qiskit.utils import QuantumInstance\n",
    "from scipy.stats import bootstrap\n",
    "\n",
    "plt.rcParams.update({\"font.size\": 14})"
   ]
  },
  {
   "cell_type": "markdown",
   "id": "8ad0b4f0-0e83-4edf-a445-5729a11a52ae",
   "metadata": {},
   "source": [
    "### Load VQE data"
   ]
  },
  {
   "cell_type": "code",
   "execution_count": 2,
   "id": "b5efd4a4-b01c-4129-a517-d7d309c801fc",
   "metadata": {},
   "outputs": [
    {
     "name": "stdout",
     "output_type": "stream",
     "text": [
      "{'h_type': 'ISING', 'ansatz_type': 'CIRCULAR', 'noise_type': 'DEPOL', 'vqe_starting_point': 'SMALL_RANDOM', 'n_qubits': 6, 'n_perms_for_example': 50, 'perms_numbers': [50], 'tests_per_perm_qty': 50, 'ansatz_depth': 4, 'global_seed': 100, 'noise_seed': 0, 'note': 'Ry, Rx, RZZ, layerwise training'}\n"
     ]
    }
   ],
   "source": [
    "vqe_foldername = \"./vqe_data/Fri, 13 Oct 2023 08:41:22 seq\"\n",
    "\n",
    "\n",
    "with open(vqe_foldername + \"/sol.txt\", \"r\") as fp:\n",
    "    sol_jsonisable = json.load(fp)\n",
    "with open(vqe_foldername + \"/inputs.txt\", \"r\") as fp:\n",
    "    input_dict = json.load(fp)\n",
    "\n",
    "h_type = HamiltonianType[input_dict[\"h_type\"]]\n",
    "ansatz_type = AnsatzType[input_dict[\"ansatz_type\"]]\n",
    "vqe_starting_point = StartingPoint[input_dict[\"vqe_starting_point\"]]\n",
    "n_qubits = input_dict[\"n_qubits\"]\n",
    "ansatz_depth = input_dict[\"ansatz_depth\"]\n",
    "\n",
    "print(input_dict)"
   ]
  },
  {
   "cell_type": "markdown",
   "id": "e251274b-19a8-40db-b25e-aa7ba35ed182",
   "metadata": {},
   "source": [
    "### Specify ZNE data"
   ]
  },
  {
   "cell_type": "code",
   "execution_count": 11,
   "id": "437a1c17-9a5b-4253-961f-ac11fe4c0554",
   "metadata": {},
   "outputs": [],
   "source": [
    "global_seed = input_dict[\"global_seed\"]\n",
    "noise_seed = int(time.time())\n",
    "noise_type = NoiseType.DEPOL\n",
    "use_all_perms = False\n",
    "n_perms_for_other_expts = 50\n",
    "noise_distribution_type = NoiseDistribution.UNIFORM\n",
    "# noise_distribution_params = [5e-4, 1/12 * 1e-6] # desired mean and variance, not the \"parameters\" of the lognormal\n",
    "noise_distribution_params = [1e-3]\n",
    "\n",
    "zne_dict = {\"vqe_folder\": vqe_foldername,\n",
    "            \"global_seed\": global_seed,\n",
    "            \"noise_seed\": noise_seed,\n",
    "            \"noise_type\": noise_type.name,\n",
    "            \"n_perms_for_other_expts\": n_perms_for_other_expts,\n",
    "            \"use_all_perms\": use_all_perms,\n",
    "            \"noise_distribution_type\": noise_distribution_type.name,\n",
    "            \"noise_distribution_params\": noise_distribution_params}\n",
    "\n",
    "\n",
    "# expt_id = time.strftime(\"%Y %m %d %H:%M:%S\", time.gmtime())\n",
    "# zne_foldername = \"./zne_experiments/\" + str(expt_id)\n",
    "# Path(zne_foldername).mkdir(parents=True, exist_ok=False)\n",
    "\n",
    "zne_foldername = \"./zne_experiments/test\"\n",
    "with open(zne_foldername + \"/expt_summary.txt\", \"w\") as fp:\n",
    "    json.dump(zne_dict, fp)"
   ]
  },
  {
   "cell_type": "markdown",
   "id": "b8af2e8c-fd41-4465-ba17-142ac1718d41",
   "metadata": {},
   "source": [
    "Exact solution"
   ]
  },
  {
   "cell_type": "code",
   "execution_count": 12,
   "id": "5ab6e7e1-c197-4cde-b493-2c98f714808e",
   "metadata": {},
   "outputs": [],
   "source": [
    "circ = TwoLocal(n_qubits, ['ry', 'rx'], 'rzz',\n",
    "                entanglement=ansatz_type.name.lower(),\n",
    "                reps=ansatz_depth)\n",
    "circ = unpack_twolocal(circ)\n",
    "\n",
    "h = get_hamiltonian(h_type, n_qubits)\n",
    "\n",
    "\n",
    "if n_qubits <= 10:\n",
    "    exact_eigenvalues, _ = np.linalg.eigh(h.to_matrix())\n",
    "else:\n",
    "    exact_eigenvalues, _ = eigsh(h.to_spmatrix(), which=\"SA\", k=6)"
   ]
  },
  {
   "cell_type": "markdown",
   "id": "03cf2748-eebe-41fe-9529-ec7cf6df9d15",
   "metadata": {},
   "source": [
    "### Show the distribution of $\\epsilon_{jk}$"
   ]
  },
  {
   "cell_type": "markdown",
   "id": "a7308c9b-ce8b-447c-86ef-aebedc51c9cb",
   "metadata": {},
   "source": [
    "##### Skip this section if the noise model is stochastic Pauli"
   ]
  },
  {
   "cell_type": "code",
   "execution_count": null,
   "id": "b2cf3039-33c5-42c6-b424-17c0c15f4da1",
   "metadata": {},
   "outputs": [],
   "source": [
    "%%time\n",
    "perturbed_energies = e_gs(circ, h, sol_jsonisable[\"x\"], noise_type)\n",
    "print(perturbed_energies)"
   ]
  },
  {
   "cell_type": "code",
   "execution_count": null,
   "id": "a6952d1b-f7da-4160-bcd7-1d3f9c71637f",
   "metadata": {},
   "outputs": [],
   "source": [
    "epsilons = perturbed_energies - np.mean(perturbed_energies)\n",
    "\n",
    "gates_per_layer = len(perturbed_energies) // ansatz_depth\n",
    "aggregated_epsilons = np.zeros(gates_per_layer)\n",
    "aggregated_eij = np.zeros(gates_per_layer)\n",
    "for i in range(ansatz_depth):\n",
    "    aggregated_epsilons += epsilons[i * gates_per_layer: (i+1) * gates_per_layer]\n",
    "aggregated_epsilons = aggregated_epsilons / ansatz_depth\n",
    "aggregated_eij = np.zeros(gates_per_layer)"
   ]
  },
  {
   "cell_type": "code",
   "execution_count": null,
   "id": "17875832-8287-422e-816a-2042f7a80dde",
   "metadata": {},
   "outputs": [],
   "source": [
    "plt.plot(np.arange(len(perturbed_energies)) + 1, \n",
    "         perturbed_energies, 'o-')\n",
    "plt.xlabel(\"Total gate index\")\n",
    "plt.ylabel(\"$E_{jk}^l$\")\n",
    "\n",
    "plt.axhline(sol_jsonisable[\"fun\"], color='black')\n",
    "plt.axhline(np.mean(perturbed_energies), linestyle='-.', color='black', alpha=0.7)\n",
    "plt.plot(np.arange(len(perturbed_energies)) + 1, \n",
    "         perturbed_energies, 'o-', color='tab:blue')\n",
    "\n",
    "plt.autoscale(False)\n",
    "\n",
    "for i, x in enumerate(sorted(exact_eigenvalues)):\n",
    "    if i == 0:\n",
    "        continue\n",
    "    # if i >= 5:\n",
    "    #     break\n",
    "    plt.axhline(x, linestyle='-', color='gray', alpha=0.5)\n",
    "    # plt.autoscale(False)\n",
    "\n",
    "\n",
    "plt.plot(np.arange(gates_per_layer) + 1, \n",
    "         aggregated_epsilons  + np.mean(perturbed_energies), 's-')\n",
    "\n",
    "\n",
    "\n",
    "ylim = plt.gca().get_ylim()\n",
    "print(ylim)\n",
    "plt.ylim(bottom=sol_jsonisable[\"fun\"] - 0.025 * (ylim[1] - ylim[0]))\n",
    "\n",
    "plt.savefig(zne_foldername + \"/perturbed_energies.png\", dpi=400, bbox_inches='tight')\n",
    "np.savetxt(zne_foldername + '/perturbed_energies.txt', perturbed_energies)\n",
    "\n",
    "plt.show()"
   ]
  },
  {
   "cell_type": "markdown",
   "id": "90185738-6fae-4bee-a41e-f651475c89db",
   "metadata": {},
   "source": [
    "### Apply ZNE"
   ]
  },
  {
   "cell_type": "code",
   "execution_count": 13,
   "id": "3fc9819e-17b4-4445-be44-b2430b87a09b",
   "metadata": {},
   "outputs": [],
   "source": [
    "from itertools import product"
   ]
  },
  {
   "cell_type": "code",
   "execution_count": 14,
   "id": "e857b6ed-c1b4-488e-89bd-6f0d3d2eb551",
   "metadata": {},
   "outputs": [],
   "source": [
    "def make_pauli_nm(qs, n_qubits):\n",
    "    assert qs.shape == (n_qubits, n_qubits, 16)\n",
    "    noise_model = NoiseModel()\n",
    "    for i in range(n_qubits):\n",
    "        for j in range(i + 1, n_qubits):\n",
    "            error_spec = [(s[0] + s[1], qs[i, j, k]) \n",
    "                          for k, s in enumerate(product(PAULI_LABELS, repeat=2))]\n",
    "            error = pauli_error(error_spec)\n",
    "            noise_model.add_quantum_error(error, [\"rzz\"], [i, j])\n",
    "    return noise_model"
   ]
  },
  {
   "cell_type": "code",
   "execution_count": 15,
   "id": "66c53ebc-1665-42a7-ac33-4ab416975501",
   "metadata": {},
   "outputs": [],
   "source": [
    "noise_rng = np.random.default_rng(noise_seed)\n",
    "rng = np.random.default_rng(global_seed)\n",
    "\n",
    "\n",
    "if noise_type == NoiseType.STOCH_PAULI:\n",
    "    size = (n_qubits, n_qubits, 16)\n",
    "    if noise_distribution_type == NoiseDistribution.UNIFORM:\n",
    "        qs = noise_rng.uniform(high=noise_distribution_params[0], size=size) / 15\n",
    "    elif noise_distribution_type == NoiseDistribution.LOGNORMAL:\n",
    "        sigma2_normal = np.log(1 + noise_distribution_params[1] / noise_distribution_params[0]**2)\n",
    "        mu_normal = np.log(noise_distribution_params[0]) - 0.5 * sigma2_normal\n",
    "        qs = noise_rng.lognormal(mean=mu_normal, sigma=(sigma2_normal)**0.5 , size=size) / 15\n",
    "    else:\n",
    "        raise ValueError(\"no such noise type\")\n",
    "else:\n",
    "    size = (n_qubits, n_qubits)\n",
    "    if noise_distribution_type == NoiseDistribution.UNIFORM:\n",
    "        qs = noise_rng.uniform(high=noise_distribution_params[0], size=size)\n",
    "    elif noise_distribution_type == NoiseDistribution.LOGNORMAL:\n",
    "        sigma2_normal = np.log(1 + noise_distribution_params[1] / noise_distribution_params[0]**2)\n",
    "        mu_normal = np.log(noise_distribution_params[0]) - 0.5 * sigma2_normal\n",
    "        qs = noise_rng.lognormal(mean=mu_normal, sigma=sigma2_normal**0.5, size=size)\n",
    "    else:\n",
    "        raise ValueError(\"no such noise type\")\n",
    "        pass\n",
    "\n",
    "        \n",
    "if noise_type == NoiseType.STOCH_PAULI:\n",
    "    for k in range(16):\n",
    "        qs[:, :, k] = np.triu(qs[:, :, k], 1) + np.triu(qs[:, :, k], 1).T\n",
    "        \n",
    "    qs[:, :, 0] = 1 - np.sum(qs[:, :, 1:], axis=2)\n",
    "else:\n",
    "    qs = np.triu(qs, 1) + np.triu(qs, 1).T"
   ]
  },
  {
   "cell_type": "code",
   "execution_count": 16,
   "id": "44a5a6e8-54d4-42ca-bc38-c597a93edb15",
   "metadata": {},
   "outputs": [],
   "source": [
    "def permute_long_qs(qs, P):\n",
    "    new_qs = np.zeros_like(qs)\n",
    "    for i in range(16):\n",
    "        new_qs[:, :, i] = P @ qs[:, :, i] @ P.T\n",
    "    return new_qs"
   ]
  },
  {
   "cell_type": "code",
   "execution_count": 17,
   "id": "e1adf328-34c0-4041-9504-d222f2867a05",
   "metadata": {},
   "outputs": [
    {
     "name": "stderr",
     "output_type": "stream",
     "text": [
      "50it [00:04, 12.35it/s]\n"
     ]
    }
   ],
   "source": [
    "if use_all_perms:\n",
    "    n_perms = factorial(n_qubits)\n",
    "else:\n",
    "    n_perms = n_perms_for_other_expts\n",
    "permutations = random_perms(n_qubits, n_perms, rng)\n",
    "# permutations = random_perms(n_qubits, factorial(n_qubits), rng)\n",
    "\n",
    "errorsums = np.zeros(n_perms)\n",
    "energies = np.zeros(n_perms)\n",
    "\n",
    "for i, perm in tqdm(enumerate(permutations)):\n",
    "    P = permutation_matrix(perm)\n",
    "    if noise_type == NoiseType.STOCH_PAULI:\n",
    "        new_qs = permute_long_qs(qs, P)\n",
    "        nm = make_pauli_nm(new_qs, n_qubits)\n",
    "        \n",
    "        aggregated_qs = np.sum(new_qs[:, :, 1:], axis=2)\n",
    "        \n",
    "        errorsums[i] = error_sum(circ, np.zeros(circ.num_qubits), aggregated_qs)\n",
    "    else:\n",
    "        new_qs = P @ qs @ P.T\n",
    "        nm = make_nm(new_qs, noise_type, n_qubits)\n",
    "        errorsums[i] = error_sum(circ, np.zeros(circ.num_qubits), new_qs)\n",
    "    energies[i] = get_energy_estimator(circ, h, nm)(sol_jsonisable[\"x\"])"
   ]
  },
  {
   "cell_type": "code",
   "execution_count": 18,
   "id": "4c0b5e01-121c-447b-b437-cc4e38132265",
   "metadata": {},
   "outputs": [
    {
     "data": {
      "image/png": "[encoded data removed]",
      "text/plain": [
       "<Figure size 640x480 with 1 Axes>"
      ]
     },
     "metadata": {},
     "output_type": "display_data"
    }
   ],
   "source": [
    "regress_result = linregress(errorsums, energies)\n",
    "# plt.figure(figsize=(6.4, 4.8))\n",
    "plt.plot(errorsums, energies, 'o')\n",
    "plt.axhline(sol_jsonisable[\"fun\"])\n",
    "plt.plot([0, max(errorsums)], \n",
    "         regress_result.intercept \n",
    "         + regress_result.slope * np.array([0, max(errorsums)]), \n",
    "         'r')\n",
    "\n",
    "plt.xlabel(\"Error sum\")\n",
    "plt.ylabel(\"E\")\n",
    "plt.savefig(zne_foldername + \"/perm_fit.png\", dpi=400, bbox_inches='tight')"
   ]
  },
  {
   "cell_type": "code",
   "execution_count": 19,
   "id": "c0bec32a-7adc-4ed0-aaf9-354ef57b5f4b",
   "metadata": {},
   "outputs": [],
   "source": [
    "np.savetxt(zne_foldername + '/example_energies.txt', energies)\n",
    "np.savetxt(zne_foldername + '/example_errorsums.txt', errorsums)"
   ]
  },
  {
   "cell_type": "code",
   "execution_count": 20,
   "id": "a6855f9b-6640-4082-8122-cb83b60e5ff4",
   "metadata": {},
   "outputs": [],
   "source": [
    "np.savetxt(zne_foldername + '/zne_energy.txt', np.array([regress_result.intercept]))"
   ]
  },
  {
   "cell_type": "code",
   "execution_count": 21,
   "id": "df8ad3c1-fce1-47f7-bacf-728d4af05335",
   "metadata": {},
   "outputs": [
    {
     "name": "stdout",
     "output_type": "stream",
     "text": [
      "-0.0016401273068593625\n"
     ]
    }
   ],
   "source": [
    "print(regress_result.intercept -  sol_jsonisable[\"fun\"])"
   ]
  },
  {
   "cell_type": "code",
   "execution_count": 22,
   "id": "4389137d-f55e-4e08-bca9-ffadc6007d94",
   "metadata": {},
   "outputs": [],
   "source": [
    "np.savetxt(zne_foldername + '/zne_error.txt', \n",
    "           np.array([regress_result.intercept -  sol_jsonisable[\"fun\"]]))"
   ]
  },
  {
   "cell_type": "markdown",
   "id": "ca246f25-2f80-47f0-9d66-45e526bcf14c",
   "metadata": {},
   "source": [
    "### Series of experiments"
   ]
  },
  {
   "cell_type": "code",
   "execution_count": 23,
   "id": "2db3e94f-535c-4383-8a84-b74911c01aa8",
   "metadata": {},
   "outputs": [],
   "source": [
    "noise_rng = np.random.default_rng(noise_seed)\n",
    "rng = np.random.default_rng(global_seed)\n",
    "\n",
    "\n",
    "def make_unscaled_noise(noise_type, n_qubits, noise_distribution_type):\n",
    "    if noise_type == NoiseType.STOCH_PAULI:\n",
    "        size = (n_qubits, n_qubits, 16)\n",
    "        if noise_distribution_type == NoiseDistribution.UNIFORM:\n",
    "            qs_unscaled = noise_rng.uniform(high=1, size=size) / 15\n",
    "        elif noise_distribution_type == NoiseDistribution.LOGNORMAL:\n",
    "            sigma2_normal = np.log(1 + (1/12) / 0.5**2)\n",
    "            mu_normal = np.log(1) - 0.5 * sigma2_normal\n",
    "            qs_unscaled = noise_rng.lognormal(mean=mu_normal, sigma=(sigma2_normal)**0.5 , size=size) / 15\n",
    "        else:\n",
    "            raise ValueError(\"no such noise type\")\n",
    "    else:\n",
    "        size = (n_qubits, n_qubits)\n",
    "        if noise_distribution_type == NoiseDistribution.UNIFORM:\n",
    "            qs_unscaled = noise_rng.uniform(high=1, size=size)\n",
    "        elif noise_distribution_type == NoiseDistribution.LOGNORMAL:\n",
    "            sigma2_normal = np.log(1 + (1/12) / 0.5**2)\n",
    "            mu_normal = np.log(1) - 0.5 * sigma2_normal\n",
    "            qs_unscaled = noise_rng.lognormal(mean=mu_normal, sigma=sigma2_normal**0.5, size=size)\n",
    "        else:\n",
    "            raise ValueError(\"no such noise type\")\n",
    "            pass\n",
    "\n",
    "\n",
    "    if noise_type == NoiseType.STOCH_PAULI:\n",
    "        for k in range(16):\n",
    "            qs_unscaled[:, :, k] = np.triu(qs_unscaled[:, :, k], 1) + np.triu(qs_unscaled[:, :, k], 1).T\n",
    "\n",
    "        qs_unscaled[:, :, 0] = 1 - np.sum(qs_unscaled[:, :, 1:], axis=2)\n",
    "    else:\n",
    "        qs_unscaled = np.triu(qs_unscaled, 1) + np.triu(qs_unscaled, 1).T\n",
    "        \n",
    "    return qs_unscaled"
   ]
  },
  {
   "cell_type": "code",
   "execution_count": 47,
   "id": "ace98250-297c-4a46-a9dd-4421ae05eeb2",
   "metadata": {},
   "outputs": [
    {
     "name": "stdout",
     "output_type": "stream",
     "text": [
      "[-2.  -1.5 -1.  -0.9 -0.8 -0.7 -0.6 -0.5 -0.4 -0.3 -0.2 -0.1  0.   0.1\n",
      "  0.2  0.3  0.4  0.5]\n"
     ]
    }
   ],
   "source": [
    "q_amplitudes_0 = np.logspace(-2, -1.5, num=2)\n",
    "q_amplitudes_1 = np.logspace(-1, 0.5, num=16)\n",
    "# q_amplitudes_2 = np.array([10**0.5])\n",
    "\n",
    "q_amplitudes = np.hstack((q_amplitudes_0, q_amplitudes_1))\n",
    "# / circ.num_nonlocal_gates()\n",
    "\n",
    "print(np.log10(q_amplitudes))\n",
    "\n",
    "q_amplitudes = q_amplitudes / circ.num_nonlocal_gates()"
   ]
  },
  {
   "cell_type": "code",
   "execution_count": 48,
   "id": "45540d8b-cd69-4c97-acce-821332e031bd",
   "metadata": {},
   "outputs": [],
   "source": [
    "def my_statistic(x, y):\n",
    "    return linregress(x, y).intercept"
   ]
  },
  {
   "cell_type": "code",
   "execution_count": 49,
   "id": "46572cd2-3ec5-48e0-93c5-cdeb5360f73b",
   "metadata": {},
   "outputs": [
    {
     "name": "stderr",
     "output_type": "stream",
     "text": [
      "50it [00:04, 10.79it/s]\n",
      "50it [00:04, 12.11it/s]\n",
      "50it [00:03, 12.72it/s]\n",
      "50it [00:03, 12.76it/s]\n",
      "50it [00:04, 12.14it/s]\n",
      "50it [00:04, 12.45it/s]\n",
      "50it [00:03, 12.61it/s]\n",
      "50it [00:03, 12.81it/s]\n",
      "50it [00:03, 12.73it/s]\n",
      "50it [00:03, 13.05it/s]\n",
      "50it [00:03, 12.91it/s]\n",
      "50it [00:04, 12.46it/s]\n",
      "50it [00:03, 12.71it/s]\n",
      "50it [00:04, 12.41it/s]\n",
      "50it [00:03, 13.04it/s]\n",
      "50it [00:03, 12.83it/s]\n",
      "50it [00:04, 12.33it/s]\n",
      "50it [00:03, 12.55it/s]\n"
     ]
    }
   ],
   "source": [
    "zne_energies = np.zeros(len(q_amplitudes))\n",
    "zne_energy_stderrs = np.zeros_like(zne_energies)\n",
    "zne_energy_cis = []\n",
    "zne_bootstrap_results = []\n",
    "\n",
    "errorsums_all = np.zeros((len(q_amplitudes), n_perms_for_other_expts))\n",
    "energies_all = np.zeros_like(errorsums_all)\n",
    "\n",
    "for i, q_max in enumerate(q_amplitudes):\n",
    "    if noise_type == NoiseType.STOCH_PAULI:\n",
    "        qs = qs_unscaled * q_max\n",
    "        qs[:, :, 0] = 1 - np.sum(qs[:, :, 1:], axis=2)\n",
    "    else:\n",
    "        qs = qs_unscaled * q_max\n",
    "    \n",
    "    permutations = random_perms(n_qubits, n_perms_for_other_expts, rng)\n",
    "    errorsums = np.zeros(n_perms_for_other_expts)\n",
    "    energies = np.zeros(n_perms_for_other_expts)\n",
    "      \n",
    "    for k, perm in tqdm(enumerate(permutations)):\n",
    "        P = permutation_matrix(perm)\n",
    "        if noise_type == NoiseType.STOCH_PAULI:\n",
    "            new_qs = permute_long_qs(qs, P)\n",
    "            nm = make_pauli_nm(new_qs, n_qubits)\n",
    "        \n",
    "            aggregated_qs = np.sum(new_qs[:, :, 1:], axis=2)        \n",
    "            errorsums[k] = error_sum(circ, np.zeros(circ.num_qubits), aggregated_qs)\n",
    "        else:\n",
    "            new_qs = P @ qs @ P.T\n",
    "            nm = make_nm(new_qs, noise_type, n_qubits)\n",
    "            errorsums[k] = error_sum(circ, np.zeros(circ.num_qubits), new_qs)\n",
    "            \n",
    "        energies[k] = get_energy_estimator(circ, h, nm)(np.array(sol_jsonisable[\"x\"]))\n",
    "\n",
    "    boot_res = bootstrap((errorsums, energies), my_statistic, paired=True, vectorized=False, random_state=noise_rng)\n",
    "    zne_energies[i] = my_statistic(errorsums, energies)\n",
    "    zne_energy_stderrs[i] = boot_res.standard_error\n",
    "    zne_energy_cis.append(boot_res.confidence_interval)\n",
    "    zne_bootstrap_results.append(boot_res)\n",
    "    \n",
    "    errorsums_all[i] = errorsums\n",
    "    energies_all[i] = energies"
   ]
  },
  {
   "cell_type": "code",
   "execution_count": 50,
   "id": "6df08d83-0789-458c-864c-07faa6cf920a",
   "metadata": {},
   "outputs": [],
   "source": [
    "zne_energies_vs_gap = (zne_energies - exact_eigenvalues[0]) / (exact_eigenvalues[1] - exact_eigenvalues[0])\n",
    "cis = np.array([[t.low for t in zne_energy_cis], [t.high for t in zne_energy_cis]])"
   ]
  },
  {
   "cell_type": "code",
   "execution_count": 51,
   "id": "e7ced7af-5970-48b6-af30-c67b8f3878f7",
   "metadata": {},
   "outputs": [
    {
     "data": {
      "text/plain": [
       "Text(0.05, 1.0, '$y\\\\sim~x^{1.2}$')"
      ]
     },
     "execution_count": 51,
     "metadata": {},
     "output_type": "execute_result"
    },
    {
     "data": {
      "image/png": "[encoded data removed]",
      "text/plain": [
       "<Figure size 640x480 with 2 Axes>"
      ]
     },
     "metadata": {},
     "output_type": "display_data"
    }
   ],
   "source": [
    "plt.errorbar(q_amplitudes * circ.num_nonlocal_gates(), \n",
    "             zne_energies,\n",
    "             yerr=abs(cis - zne_energies),\n",
    "             markersize=6, capsize=3, marker='o')\n",
    "\n",
    "plt.axhline(sol_jsonisable[\"fun\"])\n",
    "\n",
    "    \n",
    "for i, x in enumerate(sorted(exact_eigenvalues)):\n",
    "    if i >= 2:\n",
    "        break\n",
    "    plt.axhline(x, linestyle='--')\n",
    "\n",
    "# plt.axhline((sol_jsonisable[\"fun\"] - exact_eigenvalues[0]) / (exact_eigenvalues[1] - exact_eigenvalues[0]))\n",
    "plt.ylabel(\"E\")\n",
    "plt.xlabel(r\"$|T|dq_{max}$\")\n",
    "\n",
    "# plt.savefig(foldername + \"/zne_vs_qG\", dpi=400, bbox_inches='tight')\n",
    "\n",
    "\n",
    "# for i in range(len(q_amplitudes)):\n",
    "#     if i <=3:\n",
    "#         continue\n",
    "#     # plt.scatter(np.ones(energies_all[i].shape) * q_amplitudes[i] * circ.num_nonlocal_gates(), \n",
    "#     #             energies_all[i], alpha=0.5)\n",
    "#     plt.boxplot(energies_all[i], positions=[q_amplitudes[i] * circ.num_nonlocal_gates()],\n",
    "#                widths=q_amplitudes[i] * circ.num_nonlocal_gates() * 0.2)\n",
    "\n",
    "\n",
    "\n",
    "plt.gca().set_xscale(\"log\")\n",
    "\n",
    "\n",
    "a = plt.axes([0.25, 0.5, 0.3, 0.3])\n",
    "a.loglog(q_amplitudes * circ.num_nonlocal_gates(), abs(zne_energies - sol_jsonisable[\"fun\"]), 'o-')\n",
    "# a.errorbar(q_amplitudes * circ.num_nonlocal_gates(), abs(zne_energies - sol_jsonisable[\"fun\"]), \n",
    "#            yerr=abs(cis - zne_energies), \n",
    "#            markersize=6, capsize=3, marker='o')\n",
    "# a.set_xscale(\"log\")\n",
    "# a.set_yscale(\"log\")\n",
    "\n",
    "a.grid()\n",
    "# a.set_yticks([1e-4, 1e-3, 1e-2, 1e-1, 1], labels=[r'$10^{-4}$', '', '', '', '1'])\n",
    "a.tick_params(direction='in', labelsize=\"small\")\n",
    "a.tick_params(axis='y', labelrotation=90)\n",
    "a.set_ylabel(r\"$|E_{ZNE} - E_0|$\")\n",
    "\n",
    "regress_result = linregress(np.log10(q_amplitudes * circ.num_nonlocal_gates()), np.log10(abs(zne_energies - sol_jsonisable[\"fun\"])))\n",
    "\n",
    "a.loglog(np.logspace(-3, 0.5, num=51), \n",
    "         np.logspace(-3, 0.5, num=51)**regress_result.slope * 10**regress_result.intercept)\n",
    "\n",
    "a.text(0.05, 1., r\"$y\\sim~x^{{{0:1.1f}}}$\".format(regress_result.slope), fontsize=11)"
   ]
  },
  {
   "cell_type": "code",
   "execution_count": 60,
   "id": "6d3957aa-ca42-4f41-85e7-f9ee10b4ec03",
   "metadata": {},
   "outputs": [
    {
     "data": {
      "text/plain": [
       "[<matplotlib.lines.Line2D at 0x7fcc2172e760>]"
      ]
     },
     "execution_count": 60,
     "metadata": {},
     "output_type": "execute_result"
    },
    {
     "data": {
      "image/png": "[encoded data removed]",
      "text/plain": [
       "<Figure size 640x480 with 1 Axes>"
      ]
     },
     "metadata": {},
     "output_type": "display_data"
    }
   ],
   "source": [
    "plt.semilogx(np.mean(errorsums_all, axis=1), zne_energies, 'o')"
   ]
  },
  {
   "cell_type": "code",
   "execution_count": 58,
   "id": "8577b69d-16f6-4355-b82e-b85183d2d316",
   "metadata": {},
   "outputs": [
    {
     "name": "stdout",
     "output_type": "stream",
     "text": [
      "2.4931048587587332\n"
     ]
    }
   ],
   "source": [
    "gap_rate = 10**((np.log10(exact_eigenvalues[1] - exact_eigenvalues[0]) - regress_result.intercept) \n",
    "     / regress_result.slope)\n",
    "\n",
    "print(gap_rate)"
   ]
  }
 ],
 "metadata": {
  "kernelspec": {
   "display_name": "wenv",
   "language": "python",
   "name": "wenv"
  },
  "language_info": {
   "codemirror_mode": {
    "name": "ipython",
    "version": 3
   },
   "file_extension": ".py",
   "mimetype": "text/x-python",
   "name": "python",
   "nbconvert_exporter": "python",
   "pygments_lexer": "ipython3",
   "version": "3.8.0"
  }
 },
 "nbformat": 4,
 "nbformat_minor": 5
}
